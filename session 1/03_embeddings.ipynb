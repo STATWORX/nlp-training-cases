{
 "cells": [
  {
   "cell_type": "markdown",
   "metadata": {},
   "source": [
    "NLP Training 3: Embeddings\n",
    "--- "
   ]
  },
  {
   "cell_type": "code",
   "execution_count": 1,
   "metadata": {},
   "outputs": [
    {
     "name": "stdout",
     "output_type": "stream",
     "text": [
      "Setting working dir to: /Users/ingomarquart/Documents/GitHub/itern-nlp-training-cases\n"
     ]
    }
   ],
   "source": [
    "import os\n",
    "os.chdir('..')\n",
    "print(f'Setting working dir to: {os.getcwd()}')"
   ]
  },
  {
   "cell_type": "markdown",
   "metadata": {},
   "source": [
    "**Restart the notebook after the following line (when you first download the file)**"
   ]
  },
  {
   "cell_type": "code",
   "execution_count": 3,
   "metadata": {},
   "outputs": [
    {
     "name": "stdout",
     "output_type": "stream",
     "text": [
      "Collecting en-core-web-md==3.4.0\n",
      "  Downloading https://github.com/explosion/spacy-models/releases/download/en_core_web_md-3.4.0/en_core_web_md-3.4.0-py3-none-any.whl (42.8 MB)\n",
      "\u001b[2K     \u001b[90m━━━━━━━━━━━━━━━━━━━━━━━━━━━━━━━━━━━━━━━━\u001b[0m \u001b[32m42.8/42.8 MB\u001b[0m \u001b[31m21.0 MB/s\u001b[0m eta \u001b[36m0:00:00\u001b[0m00:01\u001b[0m00:01\u001b[0m\n",
      "\u001b[?25hRequirement already satisfied: spacy<3.5.0,>=3.4.0 in /opt/homebrew/Caskroom/miniforge/base/envs/nlp-training/lib/python3.10/site-packages (from en-core-web-md==3.4.0) (3.4.1)\n",
      "Requirement already satisfied: jinja2 in /opt/homebrew/Caskroom/miniforge/base/envs/nlp-training/lib/python3.10/site-packages (from spacy<3.5.0,>=3.4.0->en-core-web-md==3.4.0) (3.1.2)\n",
      "Requirement already satisfied: requests<3.0.0,>=2.13.0 in /opt/homebrew/Caskroom/miniforge/base/envs/nlp-training/lib/python3.10/site-packages (from spacy<3.5.0,>=3.4.0->en-core-web-md==3.4.0) (2.28.1)\n",
      "Requirement already satisfied: thinc<8.2.0,>=8.1.0 in /opt/homebrew/Caskroom/miniforge/base/envs/nlp-training/lib/python3.10/site-packages (from spacy<3.5.0,>=3.4.0->en-core-web-md==3.4.0) (8.1.0)\n",
      "Requirement already satisfied: murmurhash<1.1.0,>=0.28.0 in /opt/homebrew/Caskroom/miniforge/base/envs/nlp-training/lib/python3.10/site-packages (from spacy<3.5.0,>=3.4.0->en-core-web-md==3.4.0) (1.0.8)\n",
      "Requirement already satisfied: packaging>=20.0 in /opt/homebrew/Caskroom/miniforge/base/envs/nlp-training/lib/python3.10/site-packages (from spacy<3.5.0,>=3.4.0->en-core-web-md==3.4.0) (21.3)\n",
      "Requirement already satisfied: pathy>=0.3.5 in /opt/homebrew/Caskroom/miniforge/base/envs/nlp-training/lib/python3.10/site-packages (from spacy<3.5.0,>=3.4.0->en-core-web-md==3.4.0) (0.6.2)\n",
      "Requirement already satisfied: langcodes<4.0.0,>=3.2.0 in /opt/homebrew/Caskroom/miniforge/base/envs/nlp-training/lib/python3.10/site-packages (from spacy<3.5.0,>=3.4.0->en-core-web-md==3.4.0) (3.3.0)\n",
      "Requirement already satisfied: tqdm<5.0.0,>=4.38.0 in /opt/homebrew/Caskroom/miniforge/base/envs/nlp-training/lib/python3.10/site-packages (from spacy<3.5.0,>=3.4.0->en-core-web-md==3.4.0) (4.64.0)\n",
      "Requirement already satisfied: setuptools in /opt/homebrew/Caskroom/miniforge/base/envs/nlp-training/lib/python3.10/site-packages (from spacy<3.5.0,>=3.4.0->en-core-web-md==3.4.0) (65.2.0)\n",
      "Requirement already satisfied: pydantic!=1.8,!=1.8.1,<1.10.0,>=1.7.4 in /opt/homebrew/Caskroom/miniforge/base/envs/nlp-training/lib/python3.10/site-packages (from spacy<3.5.0,>=3.4.0->en-core-web-md==3.4.0) (1.9.2)\n",
      "Requirement already satisfied: spacy-loggers<2.0.0,>=1.0.0 in /opt/homebrew/Caskroom/miniforge/base/envs/nlp-training/lib/python3.10/site-packages (from spacy<3.5.0,>=3.4.0->en-core-web-md==3.4.0) (1.0.2)\n",
      "Requirement already satisfied: wasabi<1.1.0,>=0.9.1 in /opt/homebrew/Caskroom/miniforge/base/envs/nlp-training/lib/python3.10/site-packages (from spacy<3.5.0,>=3.4.0->en-core-web-md==3.4.0) (0.10.0)\n",
      "Requirement already satisfied: cymem<2.1.0,>=2.0.2 in /opt/homebrew/Caskroom/miniforge/base/envs/nlp-training/lib/python3.10/site-packages (from spacy<3.5.0,>=3.4.0->en-core-web-md==3.4.0) (2.0.6)\n",
      "Requirement already satisfied: typer<0.5.0,>=0.3.0 in /opt/homebrew/Caskroom/miniforge/base/envs/nlp-training/lib/python3.10/site-packages (from spacy<3.5.0,>=3.4.0->en-core-web-md==3.4.0) (0.4.2)\n",
      "Requirement already satisfied: srsly<3.0.0,>=2.4.3 in /opt/homebrew/Caskroom/miniforge/base/envs/nlp-training/lib/python3.10/site-packages (from spacy<3.5.0,>=3.4.0->en-core-web-md==3.4.0) (2.4.4)\n",
      "Requirement already satisfied: spacy-legacy<3.1.0,>=3.0.9 in /opt/homebrew/Caskroom/miniforge/base/envs/nlp-training/lib/python3.10/site-packages (from spacy<3.5.0,>=3.4.0->en-core-web-md==3.4.0) (3.0.10)\n",
      "Requirement already satisfied: preshed<3.1.0,>=3.0.2 in /opt/homebrew/Caskroom/miniforge/base/envs/nlp-training/lib/python3.10/site-packages (from spacy<3.5.0,>=3.4.0->en-core-web-md==3.4.0) (3.0.7)\n",
      "Requirement already satisfied: catalogue<2.1.0,>=2.0.6 in /opt/homebrew/Caskroom/miniforge/base/envs/nlp-training/lib/python3.10/site-packages (from spacy<3.5.0,>=3.4.0->en-core-web-md==3.4.0) (2.0.6)\n",
      "Requirement already satisfied: numpy>=1.15.0 in /opt/homebrew/Caskroom/miniforge/base/envs/nlp-training/lib/python3.10/site-packages (from spacy<3.5.0,>=3.4.0->en-core-web-md==3.4.0) (1.23.2)\n",
      "Requirement already satisfied: pyparsing!=3.0.5,>=2.0.2 in /opt/homebrew/Caskroom/miniforge/base/envs/nlp-training/lib/python3.10/site-packages (from packaging>=20.0->spacy<3.5.0,>=3.4.0->en-core-web-md==3.4.0) (3.0.9)\n",
      "Requirement already satisfied: smart-open<6.0.0,>=5.2.1 in /opt/homebrew/Caskroom/miniforge/base/envs/nlp-training/lib/python3.10/site-packages (from pathy>=0.3.5->spacy<3.5.0,>=3.4.0->en-core-web-md==3.4.0) (5.2.1)\n",
      "Requirement already satisfied: typing-extensions>=3.7.4.3 in /opt/homebrew/Caskroom/miniforge/base/envs/nlp-training/lib/python3.10/site-packages (from pydantic!=1.8,!=1.8.1,<1.10.0,>=1.7.4->spacy<3.5.0,>=3.4.0->en-core-web-md==3.4.0) (4.3.0)\n",
      "Requirement already satisfied: idna<4,>=2.5 in /opt/homebrew/Caskroom/miniforge/base/envs/nlp-training/lib/python3.10/site-packages (from requests<3.0.0,>=2.13.0->spacy<3.5.0,>=3.4.0->en-core-web-md==3.4.0) (3.3)\n",
      "Requirement already satisfied: certifi>=2017.4.17 in /opt/homebrew/Caskroom/miniforge/base/envs/nlp-training/lib/python3.10/site-packages (from requests<3.0.0,>=2.13.0->spacy<3.5.0,>=3.4.0->en-core-web-md==3.4.0) (2022.6.15)\n",
      "Requirement already satisfied: charset-normalizer<3,>=2 in /opt/homebrew/Caskroom/miniforge/base/envs/nlp-training/lib/python3.10/site-packages (from requests<3.0.0,>=2.13.0->spacy<3.5.0,>=3.4.0->en-core-web-md==3.4.0) (2.1.1)\n",
      "Requirement already satisfied: urllib3<1.27,>=1.21.1 in /opt/homebrew/Caskroom/miniforge/base/envs/nlp-training/lib/python3.10/site-packages (from requests<3.0.0,>=2.13.0->spacy<3.5.0,>=3.4.0->en-core-web-md==3.4.0) (1.26.11)\n",
      "Requirement already satisfied: blis<0.8.0,>=0.7.8 in /opt/homebrew/Caskroom/miniforge/base/envs/nlp-training/lib/python3.10/site-packages (from thinc<8.2.0,>=8.1.0->spacy<3.5.0,>=3.4.0->en-core-web-md==3.4.0) (0.7.8)\n",
      "Requirement already satisfied: click<9.0.0,>=7.1.1 in /opt/homebrew/Caskroom/miniforge/base/envs/nlp-training/lib/python3.10/site-packages (from typer<0.5.0,>=0.3.0->spacy<3.5.0,>=3.4.0->en-core-web-md==3.4.0) (8.1.3)\n",
      "Requirement already satisfied: MarkupSafe>=2.0 in /opt/homebrew/Caskroom/miniforge/base/envs/nlp-training/lib/python3.10/site-packages (from jinja2->spacy<3.5.0,>=3.4.0->en-core-web-md==3.4.0) (2.1.1)\n",
      "\u001b[38;5;2m✔ Download and installation successful\u001b[0m\n",
      "You can now load the package via spacy.load('en_core_web_md')\n"
     ]
    }
   ],
   "source": [
    "!python -m spacy download en_core_web_md "
   ]
  },
  {
   "cell_type": "markdown",
   "metadata": {},
   "source": [
    "## Embeddings\n",
    "\n",
    "In this notebook we will work with both static and dynamic embeddings.   \n",
    "\n",
    "We've built a small helper class for you to embed and compare words with a static Word2Vec model,\n",
    "as well as a dynamic BERT model (both are trained on English texts)."
   ]
  },
  {
   "cell_type": "code",
   "execution_count": 4,
   "metadata": {},
   "outputs": [
    {
     "name": "stderr",
     "output_type": "stream",
     "text": [
      "Some weights of the model checkpoint at bert-base-cased were not used when initializing BertModel: ['cls.predictions.transform.LayerNorm.weight', 'cls.predictions.transform.dense.weight', 'cls.predictions.transform.dense.bias', 'cls.seq_relationship.bias', 'cls.predictions.transform.LayerNorm.bias', 'cls.predictions.decoder.weight', 'cls.seq_relationship.weight', 'cls.predictions.bias']\n",
      "- This IS expected if you are initializing BertModel from the checkpoint of a model trained on another task or with another architecture (e.g. initializing a BertForSequenceClassification model from a BertForPreTraining model).\n",
      "- This IS NOT expected if you are initializing BertModel from the checkpoint of a model that you expect to be exactly identical (initializing a BertForSequenceClassification model from a BertForSequenceClassification model).\n"
     ]
    }
   ],
   "source": [
    "import numpy as np\n",
    "from utils.helper import HelperModel\n",
    "\n",
    "nlp = HelperModel(word2vec=\"en_core_web_md\", bert=\"bert-base-cased\")"
   ]
  },
  {
   "cell_type": "markdown",
   "metadata": {},
   "source": [
    "### Exercise 1 - Word2Vec"
   ]
  },
  {
   "cell_type": "markdown",
   "metadata": {},
   "source": [
    "To get word2vec embeddings for all words in a sentence, start out by calling `nlp.word2vecEmbeddings` on the following sentence:\n",
    " \n",
    " `I left my phone on the left side of the room`\n",
    "\n",
    "- Find out which size (`shape`) the embedding vectors of the model have\n",
    "- Next, compare the two embeddings of the word `left`, the one at position `1` (zero-based) and the one at position `6`. How do they relate?\n",
    "Usually vectors are compared with the cosine similarity, you can do this via `nlp.cosineSimilarity(embedding1, embedding2)`.\n",
    "- What does this mean for the embeddings? Is there an absolute difference between the two?"
   ]
  },
  {
   "cell_type": "code",
   "execution_count": 6,
   "metadata": {},
   "outputs": [],
   "source": [
    "text = 'I left my phone on the left side of the room'\n",
    "\n",
    "# Add your solution here:\n",
    "# ..."
   ]
  },
  {
   "cell_type": "markdown",
   "metadata": {},
   "source": [
    "#### Solution"
   ]
  },
  {
   "cell_type": "code",
   "execution_count": 7,
   "metadata": {},
   "outputs": [
    {
     "name": "stdout",
     "output_type": "stream",
     "text": [
      "['I', 'left', 'my', 'phone', 'on', 'the', 'left', 'side', 'of', 'the', 'room']\n",
      "[[ -1.8607     0.15804   -4.1425   ...   7.9379   -11.57       4.3334  ]\n",
      " [  1.6989     5.3603    -0.22365  ...   2.3652    -2.5907    -0.39018 ]\n",
      " [  7.0139     3.7598    -9.163    ...   1.2128   -25.256     -7.0021  ]\n",
      " ...\n",
      " [-12.667     -6.568     -0.61537  ...  -8.0021    -0.31712   -7.7062  ]\n",
      " [ -5.1043     2.3496     3.2472   ...  -7.6875    -2.5128     0.69342 ]\n",
      " [  2.7518     2.1166    -5.8193   ...   3.4374    -4.5271     0.052845]]\n",
      "Embedding shape: (11, 300)\n",
      "Similarity between \"left\" and \"left\" is: 1.00000\n",
      "Difference between the embeddings: 0.0\n"
     ]
    }
   ],
   "source": [
    "\n",
    "# Run the model and get back tokens and embeddings\n",
    "(words, embeddings) = nlp.word2vecEmbeddings(text)\n",
    "\n",
    "print(words)\n",
    "print(embeddings)\n",
    "\n",
    "# Get the shape of embeddings\n",
    "print(f'Embedding shape: {embeddings.shape}')\n",
    "\n",
    "# And the similary between two words at position 1 and 6\n",
    "similarity = nlp.cosineSimilarity(embeddings[1,:],embeddings[6,:])\n",
    "print(f'Similarity between \"left\" and \"left\" is: {similarity[0][0]:.5f}')\n",
    "\n",
    "difference = (embeddings[1,:] - embeddings[6,:]).mean()\n",
    "print(f'Difference between the embeddings: {difference}')"
   ]
  },
  {
   "cell_type": "markdown",
   "metadata": {},
   "source": [
    "### Exercise 2 - Working with Embeddings\n",
    "\n",
    "Word2Vec is trained on a large (Wikipedia and then some) size dataset, referred to as a corpus. But it is still quite common for highly specific words to not appear during training, which means that there is no available vector for the word and also no way of inferring one. It is also quite common for models to use only the 10.000 to 30.000 most common words, or one's that occur at least N amount of times in the whole text, with a common cutoff threshold being 5 or 10.\n",
    " \n",
    "- Come up with a sentence that includes a word not learnt by the model\n",
    "\n",
    "To better visualize the similarity of words or their respective embeddings, we can look at their latent space distribution. Usually this is done by reducing the dimensionality of the embeddings to either 2 or 3, with methods like PCA or t-SNE.\n",
    "\n",
    "- Get Embeddings for all words in the trained vocab, use the `.getAllWord2Vec()`-method for this\n",
    "- Run a PCA with two extracted components on the embeddings\n",
    "- Compare the sizes between the original embeddings and the output from the PCA by looking at their respective shapes\n",
    "\n",
    "We can now visualize 2d vectors.    \n",
    "We expect related vectors/points to be closer, and unrelated to be further apart in the (reduced) latent space.   \n",
    " \n",
    "- First we pick some word pairs to visualize how they relate\n",
    "- Extract the respective embeddings on the previously created 2d projection (from the PCA)\n",
    "- Visualize the 2d representation using a 2d scatter plot\n",
    "\n",
    "The same method can be used to inspect the latent space of many neural networks, for instance in computer vision. This also helps 'Explainable AI' endeavours, as one can more easily identify the visual features/attributes the network considers similar.\n"
   ]
  },
  {
   "cell_type": "code",
   "execution_count": null,
   "metadata": {},
   "outputs": [],
   "source": [
    "# Add your solution here:\n",
    "# ..."
   ]
  },
  {
   "cell_type": "markdown",
   "metadata": {},
   "source": [
    "#### Solution"
   ]
  },
  {
   "cell_type": "code",
   "execution_count": 8,
   "metadata": {},
   "outputs": [
    {
     "name": "stdout",
     "output_type": "stream",
     "text": [
      "No vectors exist for the following words, as they were not in the training vocabulary:\n",
      "[Bierbelohnung]\n",
      "result includes all available vectors\n",
      "['After', 'the', 'workshop', ',', 'there', 's', 'a']\n",
      "Org. shape: (514157, 300) vs. PCA  shape: (514157, 2)\n"
     ]
    },
    {
     "data": {
      "image/png": "[encoded data removed]",
      "text/plain": [
       "<Figure size 640x480 with 1 Axes>"
      ]
     },
     "metadata": {},
     "output_type": "display_data"
    }
   ],
   "source": [
    "from sklearn.decomposition import PCA\n",
    "import matplotlib.pyplot as plt\n",
    "\n",
    "# Bierbelohnung is probably not in the vocab\n",
    "(words, embeddings) = nlp.word2vecEmbeddings('After the workshop, theres a Bierbelohnung')\n",
    "print(words)\n",
    "\n",
    "\n",
    "# Returns all words (vocabulary) of the model plus their embeddings\n",
    "words, vectors = nlp.getAllWord2Vec()\n",
    "\n",
    "# Specify to how many components/dimensions we wish to reduce the embeddings (2)\n",
    "pca = PCA(n_components=2)\n",
    "# Fit the model and transform the data in question \n",
    "pca_vectors = pca.fit_transform(vectors)\n",
    "\n",
    "print(f'Org. shape: {vectors.shape} vs. PCA  shape: {pca_vectors.shape}')\n",
    "\n",
    "# list of words to compare and visualize \n",
    "pairs = ['salad', 'cabbage', 'spoon', 'fork', 'cat', 'dog', 'netherlands', 'amsterdam']\n",
    "\n",
    "# get their word indices from the model, which correspond to the indices the \n",
    "# vectors have in our matrix\n",
    "pairs_index = [words.index(word) for word in pairs]\n",
    "# get the respective PCA vectors for each word\n",
    "pairs_pca = np.array([pca_vectors[i] for i in pairs_index])\n",
    "\n",
    "# scatter plot the 2d embeddings as points\n",
    "fig, ax = plt.subplots()\n",
    "ax.scatter(pairs_pca[:,0],pairs_pca[:,1])\n",
    "\n",
    "# annotate points with the corresponding word\n",
    "for i, txt in enumerate(pairs):\n",
    "    ax.annotate(txt, (pairs_pca[i,0], pairs_pca[i,1]))"
   ]
  },
  {
   "cell_type": "markdown",
   "metadata": {},
   "source": [
    "### Exercise 3 - BERT\n",
    "\n",
    "We have already seen that word2vec produces \"static\" embeddings. Next we want to explore \"dynamic\" embeddings using BERT.   \n",
    "Out helper class implements a `.bertEmbeddings()`-method to do so.\n",
    "\n",
    "- Use BERT to create embeddings for both sentences below\n",
    "- Repeat the comparision from exercise 1 for the two appearances of \"left\" in the first sentence.\n",
    "\n",
    "As BERT embeddings are context dependent, we don't expect embeddings for the same word to be exactly identical. \n",
    "- Calculate the similarity between the first `left` in `sentence_1` and the first `left` in `sentence_2`\n"
   ]
  },
  {
   "cell_type": "code",
   "execution_count": 9,
   "metadata": {},
   "outputs": [],
   "source": [
    "sentence_1 = 'I left my phone on the left side of the room'\n",
    "sentence_2 = 'I left my phone on the right side of the room'\n",
    "\n",
    "# Add your solution here:\n",
    "# ..."
   ]
  },
  {
   "cell_type": "markdown",
   "metadata": {},
   "source": [
    "#### Solution"
   ]
  },
  {
   "cell_type": "code",
   "execution_count": 10,
   "metadata": {},
   "outputs": [
    {
     "name": "stdout",
     "output_type": "stream",
     "text": [
      "Similarity between \"left\" and \"left\" in sentence_1 is: 0.42872\n",
      "Similarity of \"left\" between sentence_1 and sentence_2: 0.99887\n"
     ]
    }
   ],
   "source": [
    "embeddings_left = nlp.bertEmbeddings(sentence_1)\n",
    "embeddings_right = nlp.bertEmbeddings(sentence_2)\n",
    "\n",
    "# Similary between \"left\" and \"left\" in sentece_1\n",
    "similarity = nlp.cosineSimilarity(embeddings_left[1,:],embeddings_left[6,:])\n",
    "print(f'Similarity between \"left\" and \"left\" in sentence_1 is: {similarity[0][0]:.5f}')\n",
    "\n",
    "# Similary between \"left\" and \"left\" in sentence_1 and sentece_2\n",
    "similarity = nlp.cosineSimilarity(embeddings_left[1,:],embeddings_right[1,:])\n",
    "print(f'Similarity of \"left\" between sentence_1 and sentence_2: {similarity[0][0]:.5f}')"
   ]
  },
  {
   "cell_type": "markdown",
   "metadata": {},
   "source": [
    "### Exercise 4 - Sentence/Paragraph Embeddings\n",
    "\n",
    "Language models are very versatile in their application, as the pre-trained model is basically only an encoder, which can then be used or fine-tuned for tasks like text classification, named entity recognition, neural search, etc..\n",
    "\n",
    "Having looked at word embeddings, we can now aggregate them to represent whole sentences or paragraphs or documents. For instance, Facebook Research StarSpace calls this process 'Entity Embeddings', where an entity's representation is an aggregation of the sub-entities' embeddings.   \n",
    "For example, a text representation can be achieved by aggregating all word embeddings from the text. The most common practice is to simply take the mean over all word embeddings.\n",
    "\n",
    "- Make up 3 sentences, so that two cover a similar topic (with different words) and one is completely unrelated, and get their BERT word embeddings.\n",
    "- Now take the mean of each sentence' word embeddings. Careful: Specify the axis for the mean, so that the resulting embedding is of shape `(1,768)`, the default size for a BERT word embedding\n",
    "\n",
    "Having averaged the embeddings, this information can now be used to compares sentences (or even documents).\n",
    "\n",
    "- Calculate the cosine similarities between the three sentence embeddings. You can call `np.array( [ emb1, emb2,... ] )` to get a single array, which if passed to the sklearn `cosine_similarity` will calculate the similarity matrix between all embeddings.\n",
    "- Print the matrix and finally call `np.argsort` on a row, which will give you the document/sentence ids ordered by ascending similarity.\n",
    "\n",
    "This could be used for neural-search i.e. information retrieval methods."
   ]
  },
  {
   "cell_type": "code",
   "execution_count": 11,
   "metadata": {},
   "outputs": [],
   "source": [
    "# Add your solution here:\n",
    "# ..."
   ]
  },
  {
   "cell_type": "markdown",
   "metadata": {},
   "source": [
    "#### Solution"
   ]
  },
  {
   "cell_type": "code",
   "execution_count": 15,
   "metadata": {},
   "outputs": [
    {
     "name": "stdout",
     "output_type": "stream",
     "text": [
      "[[1.         0.80336318 0.81190729]\n",
      " [0.80336318 1.         0.85349237]\n",
      " [0.81190729 0.85349237 1.        ]] \n",
      "\n",
      "[[1.         0.93506982 0.94619393]\n",
      " [0.93506982 1.         0.96195278]\n",
      " [0.94619393 0.96195278 1.        ]] \n",
      "\n",
      "Most similar sentences to sentence number 1\n",
      "[1 2 0]\n",
      "[1 2 0]\n"
     ]
    }
   ],
   "source": [
    "from sklearn.metrics.pairwise import cosine_similarity\n",
    "\n",
    "words_sent1 = nlp.bertEmbeddings('I love eating ice cream on hot summer days.')\n",
    "words_sent2 = nlp.bertEmbeddings('The car mechanic repaired the exhaust, which had become very rusty over time.')\n",
    "words_sent3 = nlp.bertEmbeddings('My motorcycle got an inspection at my local garage.')\n",
    "\n",
    "# Mean of embeddings\n",
    "emb_sent1 = words_sent1.mean(axis=0)\n",
    "emb_sent2 = words_sent2.mean(axis=0)\n",
    "emb_sent3 = words_sent3.mean(axis=0)\n",
    "\n",
    "# Use the CLS token\n",
    "cls1 =words_sent1[0,:]\n",
    "cls2 =words_sent2[0,:]\n",
    "cls3 =words_sent3[0,:]\n",
    "\n",
    "emb_cls_matrix = np.array([cls1, cls2, cls3])\n",
    "sim_cls_matrix = cosine_similarity(emb_cls_matrix)\n",
    "\n",
    "# Similarity between sentences\n",
    "emb_matrix = np.array([emb_sent1,emb_sent2,emb_sent3])\n",
    "sim_matrix = cosine_similarity(emb_matrix)\n",
    "print(sim_matrix, '\\n')\n",
    "print(sim_cls_matrix, '\\n')\n",
    "\n",
    "print('Most similar sentences to sentence number', i:=1)\n",
    "# argsort gives us the indices of a list/array sorted by value ascending\n",
    "# since we want the most similar document first (sort by value descending),\n",
    "# we multiplpy the sim_matrix with -1 as there is no ascending/descending \n",
    "# parameter in argsort\n",
    "print(np.argsort(-1 * sim_matrix)[i])\n",
    "\n",
    "print(np.argsort(-1 * sim_cls_matrix)[i])"
   ]
  },
  {
   "cell_type": "markdown",
   "metadata": {},
   "source": [
    "Observe that the embeddings are overall very similar."
   ]
  },
  {
   "cell_type": "code",
   "execution_count": 16,
   "metadata": {},
   "outputs": [
    {
     "data": {
      "image/png": "[encoded data removed]",
      "text/plain": [
       "<Figure size 640x480 with 1 Axes>"
      ]
     },
     "metadata": {},
     "output_type": "display_data"
    },
    {
     "data": {
      "image/png": "[encoded data removed]",
      "text/plain": [
       "<Figure size 640x480 with 1 Axes>"
      ]
     },
     "metadata": {},
     "output_type": "display_data"
    }
   ],
   "source": [
    "plt.imshow(emb_matrix, cmap='hot', interpolation='nearest', aspect='auto')\n",
    "plt.show()\n",
    "\n",
    "plt.imshow(emb_cls_matrix, cmap='hot', interpolation='nearest', aspect='auto')\n",
    "plt.show()"
   ]
  },
  {
   "cell_type": "markdown",
   "metadata": {},
   "source": [
    "In practice, pooling or averaging sentences with BERT is not ideal.\n",
    "\n",
    "Instead, we would use a sentence transformer model, like SentenceBERT. These models train their encoders on the sentences and get sentence embeddings that are much better!"
   ]
  },
  {
   "cell_type": "markdown",
   "metadata": {},
   "source": []
  }
 ],
 "metadata": {
  "kernelspec": {
   "display_name": "Python 3.10.6 ('nlp-training')",
   "language": "python",
   "name": "python3"
  },
  "language_info": {
   "codemirror_mode": {
    "name": "ipython",
    "version": 3
   },
   "file_extension": ".py",
   "mimetype": "text/x-python",
   "name": "python",
   "nbconvert_exporter": "python",
   "pygments_lexer": "ipython3",
   "version": "3.10.6"
  },
  "orig_nbformat": 4,
  "vscode": {
   "interpreter": {
    "hash": "c662d7cd23b6de128b6d84794298b91bf8fa078dbbac08b1f8f98d16f1457de4"
   }
  }
 },
 "nbformat": 4,
 "nbformat_minor": 2
}
